{
 "cells": [
  {
   "cell_type": "code",
   "execution_count": 35,
   "metadata": {},
   "outputs": [
    {
     "name": "stdout",
     "output_type": "stream",
     "text": [
      "Enter a number:744\n"
     ]
    }
   ],
   "source": [
    "a=int(input(\"Enter a number:\"))"
   ]
  },
  {
   "cell_type": "code",
   "execution_count": 36,
   "metadata": {},
   "outputs": [
    {
     "name": "stdout",
     "output_type": "stream",
     "text": [
      "Number \t Digit \t Multiply\n",
      "====== \t ===== \t ========\n"
     ]
    }
   ],
   "source": [
    "print(\"Number\",'\\t',\"Digit\",'\\t',\"Multiply\")\n",
    "print(\"======\",'\\t',\"=====\",'\\t',\"========\")"
   ]
  },
  {
   "cell_type": "code",
   "execution_count": 37,
   "metadata": {},
   "outputs": [
    {
     "name": "stdout",
     "output_type": "stream",
     "text": [
      "74 \t 4 \t 1\n",
      "7 \t 4 \t 1\n",
      "0 \t 7 \t 7\n",
      "========================\n",
      "\n",
      "MUltiply is  7\n"
     ]
    }
   ],
   "source": [
    "digit=0\n",
    "multiply=1\n",
    "while a>0:\n",
    "    digit=a%10\n",
    "    a//=10\n",
    "    if digit%2==1:\n",
    "        multiply*=digit\n",
    "    print(a,'\\t',digit,'\\t',multiply)\n",
    "print(\"========================\")\n",
    "print(\"\\nMUltiply is \",multiply)"
   ]
  },
  {
   "cell_type": "code",
   "execution_count": 33,
   "metadata": {},
   "outputs": [
    {
     "name": "stdout",
     "output_type": "stream",
     "text": [
      "74 \t 4 \t 1\n",
      "7 \t 4 \t 1\n",
      "0 \t 7 \t 7\n",
      "========================\n",
      "\n",
      "MUltiply is  7\n"
     ]
    }
   ],
   "source": [
    "digit=0\n",
    "multiply=1\n",
    "while a>0:\n",
    "    digit=a%10\n",
    "    a//=10\n",
    "    if digit%2!=0:\n",
    "        multiply*=digit\n",
    "    print(a,'\\t',digit,'\\t',multiply)\n",
    "print(\"========================\")\n",
    "print(\"\\nMUltiply is \",multiply)"
   ]
  },
  {
   "cell_type": "code",
   "execution_count": null,
   "metadata": {},
   "outputs": [],
   "source": []
  }
 ],
 "metadata": {
  "kernelspec": {
   "display_name": "Python 3",
   "language": "python",
   "name": "python3"
  },
  "language_info": {
   "codemirror_mode": {
    "name": "ipython",
    "version": 3
   },
   "file_extension": ".py",
   "mimetype": "text/x-python",
   "name": "python",
   "nbconvert_exporter": "python",
   "pygments_lexer": "ipython3",
   "version": "3.6.13"
  }
 },
 "nbformat": 4,
 "nbformat_minor": 2
}
